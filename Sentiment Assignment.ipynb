{
 "cells": [
  {
   "cell_type": "markdown",
   "id": "7f79baf9",
   "metadata": {},
   "source": [
    "# ADS 509 Sentiment Assignment\n",
    "\n",
    "This notebook holds the Sentiment Assignment for Module 6 in ADS 509, Applied Text Mining. Work through this notebook, writing code and answering questions where required. \n",
    "\n",
    "In a previous assignment you put together Twitter data and lyrics data on two artists. In this assignment we apply sentiment analysis to those data sets. If, for some reason, you did not complete that previous assignment, data to use for this assignment can be found in the assignment materials section of Blackboard. \n"
   ]
  },
  {
   "cell_type": "markdown",
   "id": "aae8e2e1",
   "metadata": {},
   "source": [
    "## General Assignment Instructions\n",
    "\n",
    "These instructions are included in every assignment, to remind you of the coding standards for the class. Feel free to delete this cell after reading it. \n",
    "\n",
    "One sign of mature code is conforming to a style guide. We recommend the [Google Python Style Guide](https://google.github.io/styleguide/pyguide.html). If you use a different style guide, please include a cell with a link. \n",
    "\n",
    "Your code should be relatively easy-to-read, sensibly commented, and clean. Writing code is a messy process, so please be sure to edit your final submission. Remove any cells that are not needed or parts of cells that contain unnecessary code. Remove inessential `import` statements and make sure that all such statements are moved into the designated cell. \n",
    "\n",
    "Make use of non-code cells for written commentary. These cells should be grammatical and clearly written. In some of these cells you will have questions to answer. The questions will be marked by a \"Q:\" and will have a corresponding \"A:\" spot for you. *Make sure to answer every question marked with a `Q:` for full credit.* \n"
   ]
  },
  {
   "cell_type": "code",
   "execution_count": 24,
   "id": "e2d096b7",
   "metadata": {},
   "outputs": [],
   "source": [
    "import os\n",
    "import re\n",
    "import emoji\n",
    "import pandas as pd\n",
    "import numpy as np\n",
    "import random\n",
    "import string\n",
    "\n",
    "from collections import Counter, defaultdict\n",
    "from nltk.corpus import stopwords\n",
    "from string import punctuation\n",
    "from wordcloud import WordCloud \n",
    "\n",
    "from sklearn.feature_extraction.text import TfidfTransformer, CountVectorizer\n",
    "\n",
    "from nltk.corpus import stopwords\n",
    "from nltk.tokenize import word_tokenize\n",
    "\n",
    "sw = stopwords.words(\"english\")"
   ]
  },
  {
   "cell_type": "code",
   "execution_count": 25,
   "id": "6b555ab2",
   "metadata": {},
   "outputs": [],
   "source": [
    "# Add any additional import statements you need here\n",
    "\n",
    "\n"
   ]
  },
  {
   "cell_type": "code",
   "execution_count": 26,
   "id": "923b5a86",
   "metadata": {},
   "outputs": [],
   "source": [
    "# change `data_location` to the location of the folder on your machine.\n",
    "data_location = \"C:/Users/annie/M1 Results/\"\n",
    "\n",
    "# These subfolders should still work if you correctly stored the \n",
    "# data from the Module 1 assignment\n",
    "twitter_folder = \"twitter/\"\n",
    "lyrics_folder = \"lyrics/\"\n",
    "\n",
    "positive_words_file = \"positive-words.txt\"\n",
    "negative_words_file = \"negative-words.txt\"\n",
    "tidy_text_file = \"tidytext_sentiments.txt\""
   ]
  },
  {
   "cell_type": "markdown",
   "id": "9d3bf93e",
   "metadata": {},
   "source": [
    "## Data Input\n",
    "\n",
    "Now read in each of the corpora. For the lyrics data, it may be convenient to store the entire contents of the file to make it easier to inspect the titles individually, as you'll do in the last part of the assignment. In the solution, I stored the lyrics data in a dictionary with two dimensions of keys: artist and song. The value was the file contents. A Pandas data frame would work equally well. \n",
    "\n",
    "For the Twitter data, we only need the description field for this assignment. Feel free all the descriptions read it into a data structure. In the solution, I stored the descriptions as a dictionary of lists, with the key being the artist. \n",
    "\n",
    "\n"
   ]
  },
  {
   "cell_type": "code",
   "execution_count": 27,
   "id": "37d70801",
   "metadata": {},
   "outputs": [],
   "source": [
    "# Read in the lyrics data\n",
    "lyrics_data = defaultdict(dict)\n",
    "\n",
    "for item in os.listdir(data_location + lyrics_folder):\n",
    "    if os.path.isdir(data_location + lyrics_folder + item):\n",
    "        for lyrics_page in os.listdir(data_location + lyrics_folder + item):\n",
    "            artist,song = lyrics_page.split(\"_\")\n",
    "            song = song.replace(\".txt\", \"\")\n",
    "            lyrics_data[item][song] = open(data_location + lyrics_folder + item + \"/\" + lyrics_page).read()"
   ]
  },
  {
   "cell_type": "code",
   "execution_count": 28,
   "id": "debcac5a",
   "metadata": {},
   "outputs": [],
   "source": [
    "# Read in the twitter data\n",
    "twitter_files = os.listdir(data_location + twitter_folder)\n",
    "desc_files = [f for f in twitter_files if \"followers_data\" in f]\n",
    "\n",
    "twitter_data = defaultdict(list)\n",
    "\n",
    "for f in desc_files :\n",
    "    artist = f.split(\"_\")[0]\n",
    "        \n",
    "    with open(data_location + twitter_folder + f,'r', encoding='utf8') as infile :\n",
    "        next(infile)\n",
    "        for idx, line in enumerate(infile.readlines()) :\n",
    "            \n",
    "            line = line.strip().split(\"\\t\")\n",
    "            \n",
    "            if len(line) == 7 :\n",
    "                twitter_data[artist].append(line[6])"
   ]
  },
  {
   "cell_type": "code",
   "execution_count": 36,
   "id": "af9e7a4b",
   "metadata": {},
   "outputs": [],
   "source": [
    "# Read in the positive and negative words and the\n",
    "# tidytext sentiment. Store these so that the positive\n",
    "# words are associated with a score of +1 and negative words\n",
    "# are associated with a score of -1. You can use a dataframe or a \n",
    "# dictionary for this.\n",
    "\n",
    "positive_words = {}\n",
    "negative_words = {}\n",
    "\n",
    "with open(data_location + positive_words_file, 'r') as file:\n",
    "    for word in file:\n",
    "        positive_words[word.strip()] = 1\n",
    "\n",
    "with open(data_location + negative_words_file, 'r') as file:\n",
    "    for word in file:\n",
    "        negative_words[word.strip()] = -1"
   ]
  },
  {
   "cell_type": "markdown",
   "id": "6a5f3b12",
   "metadata": {},
   "source": [
    "## Sentiment Analysis on Songs\n",
    "\n",
    "In this section, score the sentiment for all the songs for both artists in your data set. Score the sentiment by manually calculating the sentiment using the combined lexicons provided in this repository. \n",
    "\n",
    "After you have calculated these sentiments, answer the questions at the end of this section.\n"
   ]
  },
  {
   "cell_type": "code",
   "execution_count": 38,
   "id": "0edcce04",
   "metadata": {},
   "outputs": [],
   "source": [
    "# your code here\n",
    "\n",
    "# Calculate sentiment scores for Cher's songs\n",
    "cher_sentiments = {}\n",
    "for song, lyrics in lyrics_data['cher'].items():\n",
    "    words = lyrics.lower().split()\n",
    "    sentiment_score = sum(positive_words.get(word, 0) + negative_words.get(word, 0) for word in words)\n",
    "    cher_sentiments[song] = sentiment_score\n",
    "\n",
    "# Calculate sentiment scores for Robyn's songs\n",
    "robyn_sentiments = {}\n",
    "for song, lyrics in lyrics_data['robyn'].items():\n",
    "    words = lyrics.lower().split()\n",
    "    sentiment_score = sum(positive_words.get(word, 0) + negative_words.get(word, 0) for word in words)\n",
    "    robyn_sentiments[song] = sentiment_score"
   ]
  },
  {
   "cell_type": "code",
   "execution_count": 43,
   "id": "fa49130a",
   "metadata": {},
   "outputs": [
    {
     "name": "stdout",
     "output_type": "stream",
     "text": [
      "                        Song  Sentiment Artist\n",
      "198               perfection         41   Cher\n",
      "155     loveandunderstanding         41   Cher\n",
      "181                   mylove         34   Cher\n",
      "236             strongenough         33   Cher\n",
      "284              wasntitgood         27   Cher\n",
      "..                       ...        ...    ...\n",
      "139                    julie        -14   Cher\n",
      "211                  runaway        -15   Cher\n",
      "63             dressedtokill        -16   Cher\n",
      "196               outrageous        -20   Cher\n",
      "133  iwalkonguildedsplinters        -24   Cher\n",
      "\n",
      "[316 rows x 3 columns]\n",
      "                               Song  Sentiment Artist\n",
      "64                       loveisfree         91  Robyn\n",
      "51                   indestructible         26  Robyn\n",
      "97          ushouldknowbetter114529         25  Robyn\n",
      "96                ushouldknowbetter         25  Robyn\n",
      "52    indestructibleacousticversion         24  Robyn\n",
      "..                              ...        ...    ...\n",
      "38                getmyselftogether        -11  Robyn\n",
      "17                 crashandburngirl        -23  Robyn\n",
      "18                   criminalintent        -54  Robyn\n",
      "27  dontfuckingtellmewhattodo114520        -77  Robyn\n",
      "26        dontfuckingtellmewhattodo        -77  Robyn\n",
      "\n",
      "[104 rows x 3 columns]\n"
     ]
    }
   ],
   "source": [
    "# Create a DataFrame for Cher's songs and sort by sentiment score\n",
    "cher_df = pd.DataFrame(cher_sentiments.items(), columns=['Song', 'Sentiment'])\n",
    "cher_df['Artist'] = 'Cher'\n",
    "cher_df = cher_df.sort_values(by='Sentiment', ascending=False)\n",
    "\n",
    "# Create a DataFrame for Robyn's songs and sort by sentiment score\n",
    "robyn_df = pd.DataFrame(robyn_sentiments.items(), columns=['Song', 'Sentiment'])\n",
    "robyn_df['Artist'] = 'Robyn'\n",
    "robyn_df = robyn_df.sort_values(by='Sentiment', ascending=False)\n",
    "\n",
    "print(cher_df)\n",
    "print(robyn_df)"
   ]
  },
  {
   "cell_type": "markdown",
   "id": "1f8334f4",
   "metadata": {},
   "source": [
    "### Questions\n",
    "\n",
    "Q: Overall, which artist has the higher average sentiment per song? \n",
    "\n",
    "A: Robyn has the higher average sentiment per song, which is an average sentiment of 91. \n",
    "\n",
    "---\n",
    "\n",
    "Q: For your first artist, what are the three songs that have the highest and lowest sentiments? Print the lyrics of those songs to the screen. What do you think is driving the sentiment score? \n",
    "\n",
    "A: The three songs that has the highest sentiments are 'perfection', 'my love' and 'love and understanding'; while the three songs that has the lowest sentiments are 'i Walk on guilded splinters', 'outrageous' and 'dress to kill'. The sentiment score is probably driven by the words used in the song title. For example, more positive vocabularies like 'love', 'understanding' scores higher while more negative vocabularies like 'kill' score lower.  \n",
    "\n",
    "---\n",
    "\n",
    "Q: For your second artist, what are the three songs that have the highest and lowest sentiments? Print the lyrics of those songs to the screen. What do you think is driving the sentiment score? \n",
    "\n",
    "A: The three songs that has the highest sentiments are 'love is free', 'indestructible' and 'u should know better'; while the three songs that has the lowest sentiments are 'don't fucking tell me what to do', 'criminal intent' and 'crash and burn girl'. The sentiment score is probably driven by the words used in the song title. For example, more positive vocabularies liike 'love', 'better' scores higher while more negative vocabularies like 'criminal' score lower.  \n",
    "\n",
    "---\n",
    "\n",
    "Q: Plot the distributions of the sentiment scores for both artists. You can use `seaborn` to plot densities or plot histograms in matplotlib."
   ]
  },
  {
   "cell_type": "code",
   "execution_count": 44,
   "id": "bf648f53",
   "metadata": {},
   "outputs": [
    {
     "data": {
      "image/png": "[encoded data removed]",
      "text/plain": [
       "<Figure size 432x288 with 1 Axes>"
      ]
     },
     "metadata": {
      "needs_background": "light"
     },
     "output_type": "display_data"
    },
    {
     "data": {
      "image/png": "[encoded data removed]",
      "text/plain": [
       "<Figure size 432x288 with 1 Axes>"
      ]
     },
     "metadata": {
      "needs_background": "light"
     },
     "output_type": "display_data"
    }
   ],
   "source": [
    "import seaborn as sns\n",
    "import matplotlib.pyplot as plt\n",
    "\n",
    "# Plot distribution for Cher\n",
    "sns.histplot(data=cher_df, x='Sentiment', kde=True)\n",
    "plt.title('Sentiment Distribution - Cher')\n",
    "plt.show()\n",
    "\n",
    "# Plot distribution for Robyn\n",
    "sns.histplot(data=robyn_df, x='Sentiment', kde=True)\n",
    "plt.title('Sentiment Distribution - Robyn')\n",
    "plt.show()"
   ]
  },
  {
   "cell_type": "markdown",
   "id": "b3fe644d",
   "metadata": {},
   "source": [
    "## Sentiment Analysis on Twitter Descriptions\n",
    "\n",
    "In this section, define two sets of emojis you designate as positive and negative. Make sure to have at least 10 emojis per set. You can learn about the most popular emojis on Twitter at [the emojitracker](https://emojitracker.com/). \n",
    "\n",
    "Associate your positive emojis with a score of +1, negative with -1. Score the average sentiment of your two artists based on the Twitter descriptions of their followers. The average sentiment can just be the total score divided by number of followers. You do not need to calculate sentiment on non-emoji content for this section."
   ]
  },
  {
   "cell_type": "code",
   "execution_count": 45,
   "id": "1a5c1d25",
   "metadata": {},
   "outputs": [],
   "source": [
    "# your code here\n",
    "\n",
    "# Define two sets of emojis you designate as positive and negative\n",
    "positive_emojis = {'😃': 1, '🥰': 1, '👍': 1, '❤️': 1, '🙌': 1, '😊': 1, '🎉': 1, '💪': 1, '🌟': 1, '🤩': 1}\n",
    "negative_emojis = {'😔': -1, '😞': -1, '👎': -1, '💔': -1, '😢': -1, '😡': -1, '😠': -1, '🤬': -1, '😣': -1, '😒': -1}"
   ]
  },
  {
   "cell_type": "code",
   "execution_count": 47,
   "id": "20f81045",
   "metadata": {},
   "outputs": [],
   "source": [
    "# Average sentiment of Cher\n",
    "cher_sentiment_score = 0\n",
    "cher_follower_count = 0\n",
    "\n",
    "for description in twitter_data['cher']:\n",
    "    emoji_sentiments = [positive_emojis.get(emoji, 0) for emoji in description]\n",
    "    sentiment_score = sum(emoji_sentiments)\n",
    "    cher_sentiment_score += sentiment_score\n",
    "    cher_follower_count += 1\n",
    "    \n",
    "# The average sentiment can just be the total score divided by number of followers\n",
    "cher_average_sentiment = cher_sentiment_score / cher_follower_count"
   ]
  },
  {
   "cell_type": "code",
   "execution_count": 54,
   "id": "93169578",
   "metadata": {},
   "outputs": [],
   "source": [
    "# Average sentiment of Robyn\n",
    "robyn_sentiment_score = 0\n",
    "robyn_follower_count = 0\n",
    "\n",
    "for description in twitter_data['robynkonichiwa']:\n",
    "    emoji_sentiments = [positive_emojis.get(emoji, 0) for emoji in description]\n",
    "    sentiment_score = sum(emoji_sentiments)\n",
    "    robyn_sentiment_score += sentiment_score\n",
    "    robyn_follower_count += 1\n",
    "    \n",
    "# The average sentiment can just be the total score divided by the number of followers\n",
    "robyn_average_sentiment = robyn_sentiment_score / robyn_follower_count"
   ]
  },
  {
   "cell_type": "code",
   "execution_count": 55,
   "id": "c2b087cb",
   "metadata": {},
   "outputs": [
    {
     "name": "stdout",
     "output_type": "stream",
     "text": [
      "Cher Average Sentiment: 0.011999960021788126\n",
      "Robyn Average Sentiment: 0.005988433587850531\n"
     ]
    }
   ],
   "source": [
    "print(\"Cher Average Sentiment:\", cher_average_sentiment)\n",
    "print(\"Robyn Average Sentiment:\", robyn_average_sentiment)"
   ]
  },
  {
   "cell_type": "code",
   "execution_count": 56,
   "id": "61713b79",
   "metadata": {
    "scrolled": true
   },
   "outputs": [
    {
     "name": "stdout",
     "output_type": "stream",
     "text": [
      "Cher's Most Popular Positive Emoji: 😊\n",
      "Cher's Most Popular Negative Emoji: 💔\n",
      "Robyn's Most Popular Positive Emoji: 💪\n",
      "Robyn's Most Popular Negative Emoji: 💔\n"
     ]
    }
   ],
   "source": [
    "# Count the frequency of positive and negative emojis for Cher\n",
    "cher_positive_count = Counter([emoji for description in twitter_data['cher'] for emoji in description if emoji in positive_emojis])\n",
    "cher_negative_count = Counter([emoji for description in twitter_data['cher'] for emoji in description if emoji in negative_emojis])\n",
    "\n",
    "# Count the frequency of positive and negative emojis for Robyn\n",
    "robyn_positive_count = Counter([emoji for description in twitter_data['robynkonichiwa'] for emoji in description if emoji in positive_emojis])\n",
    "robyn_negative_count = Counter([emoji for description in twitter_data['robynkonichiwa'] for emoji in description if emoji in negative_emojis])\n",
    "\n",
    "# Find the most popular positive and negative emojis for Cher\n",
    "cher_most_positive_emoji = cher_positive_count.most_common(1)[0][0]\n",
    "cher_most_negative_emoji = cher_negative_count.most_common(1)[0][0]\n",
    "\n",
    "# Find the most popular positive and negative emojis for Robyn\n",
    "robyn_most_positive_emoji = robyn_positive_count.most_common(1)[0][0]\n",
    "robyn_most_negative_emoji = robyn_negative_count.most_common(1)[0][0]\n",
    "\n",
    "print(\"Cher's Most Popular Positive Emoji:\", cher_most_positive_emoji)\n",
    "print(\"Cher's Most Popular Negative Emoji:\", cher_most_negative_emoji)\n",
    "print(\"Robyn's Most Popular Positive Emoji:\", robyn_most_positive_emoji)\n",
    "print(\"Robyn's Most Popular Negative Emoji:\", robyn_most_negative_emoji)"
   ]
  },
  {
   "cell_type": "markdown",
   "id": "fb92eb93",
   "metadata": {},
   "source": [
    "Q: What is the average sentiment of your two artists? \n",
    "\n",
    "A: The average sentiment of the two artists is 0.011999960021788126 for Cher and 0.005988433587850531 for Robyn.\n",
    "\n",
    "---\n",
    "\n",
    "Q: Which positive emoji is the most popular for each artist? Which negative emoji? \n",
    "\n",
    "A: The most popular positive emoji for Cher is 😊, and the most popular positive emoji for Robyn is 💪. The most popular negative emoji for both Cher and Robyn is 💔."
   ]
  }
 ],
 "metadata": {
  "kernelspec": {
   "display_name": "Python 3",
   "language": "python",
   "name": "python3"
  },
  "language_info": {
   "codemirror_mode": {
    "name": "ipython",
    "version": 3
   },
   "file_extension": ".py",
   "mimetype": "text/x-python",
   "name": "python",
   "nbconvert_exporter": "python",
   "pygments_lexer": "ipython3",
   "version": "3.8.8"
  }
 },
 "nbformat": 4,
 "nbformat_minor": 5
}
