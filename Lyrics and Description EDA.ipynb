{
 "cells": [
  {
   "cell_type": "markdown",
   "id": "7f79baf9",
   "metadata": {},
   "source": [
    "# ADS 509 Assignment 2.1: Tokenization, Normalization, Descriptive Statistics \n",
    "\n",
    "This notebook holds Assignment 2.1 for Module 2 in ADS 509, Applied Text Mining. Work through this notebook, writing code and answering questions where required. \n",
    "\n",
    "In the previous assignment you put together Twitter data and lyrics data on two artists. In this assignment we explore some of the textual features of those data sets. If, for some reason, you did not complete that previous assignment, data to use for this assignment can be found in the assignment materials section of Blackboard. \n",
    "\n",
    "This assignment asks you to write a short function to calculate some descriptive statistics on a piece of text. Then you are asked to find some interesting and unique statistics on your corpora. \n"
   ]
  },
  {
   "cell_type": "markdown",
   "id": "aae8e2e1",
   "metadata": {},
   "source": [
    "## General Assignment Instructions\n",
    "\n",
    "These instructions are included in every assignment, to remind you of the coding standards for the class. Feel free to delete this cell after reading it. \n",
    "\n",
    "One sign of mature code is conforming to a style guide. We recommend the [Google Python Style Guide](https://google.github.io/styleguide/pyguide.html). If you use a different style guide, please include a cell with a link. \n",
    "\n",
    "Your code should be relatively easy-to-read, sensibly commented, and clean. Writing code is a messy process, so please be sure to edit your final submission. Remove any cells that are not needed or parts of cells that contain unnecessary code. Remove inessential `import` statements and make sure that all such statements are moved into the designated cell. \n",
    "\n",
    "Make use of non-code cells for written commentary. These cells should be grammatical and clearly written. In some of these cells you will have questions to answer. The questions will be marked by a \"Q:\" and will have a corresponding \"A:\" spot for you. *Make sure to answer every question marked with a `Q:` for full credit.* \n"
   ]
  },
  {
   "cell_type": "code",
   "execution_count": 27,
   "id": "e2d096b7",
   "metadata": {},
   "outputs": [],
   "source": [
    "# Import necessary packages\n",
    "import os\n",
    "import re\n",
    "import emoji\n",
    "import pandas as pd\n",
    "import numpy as np\n",
    "import nltk\n",
    "import string\n",
    "\n",
    "from collections import Counter, defaultdict\n",
    "from nltk.corpus import stopwords\n",
    "from string import punctuation\n",
    "\n",
    "# To retrieve the set of English stopwords\n",
    "sw = stopwords.words(\"english\")"
   ]
  },
  {
   "cell_type": "code",
   "execution_count": 28,
   "id": "6b555ab2",
   "metadata": {},
   "outputs": [],
   "source": [
    "# Add any additional import statements you need here\n",
    "from nltk.tokenize import word_tokenize\n",
    "import emoji\n",
    "import re"
   ]
  },
  {
   "cell_type": "code",
   "execution_count": 29,
   "id": "923b5a86",
   "metadata": {},
   "outputs": [],
   "source": [
    "# change `data_location` to the location of the folder on your machine.\n",
    "data_location = \"C:/Users/annie/M1 Results/\"\n",
    "\n",
    "# These subfolders should still work if you correctly stored the \n",
    "# data from the Module 1 assignment\n",
    "twitter_folder = \"twitter/\"\n",
    "lyrics_folder = \"lyrics/\""
   ]
  },
  {
   "cell_type": "code",
   "execution_count": 87,
   "id": "20a6dc17",
   "metadata": {},
   "outputs": [],
   "source": [
    "def descriptive_stats(tokens, num_tokens = 5, verbose=True) :\n",
    "    \"\"\"\n",
    "        Given a list of tokens, print number of tokens, number of unique tokens, \n",
    "        number of characters, lexical diversity (https://en.wikipedia.org/wiki/Lexical_diversity), \n",
    "        and num_tokens most common tokens. Return a list with the number of tokens, number\n",
    "        of unique tokens, lexical diversity, and number of characters. \n",
    "    \n",
    "    \"\"\"\n",
    "    \n",
    "    if verbose :        \n",
    "        print(f\"There are {len(tokens)} tokens in the data.\")\n",
    "        print(f\"There are {len(set(tokens))} unique tokens in the data.\")\n",
    "        print(f\"There are {len(''.join(tokens))} characters in the data.\")\n",
    "        print(f\"The lexical diversity is {len(set(tokens))/len(tokens):.3f} in the data.\")\n",
    "    \n",
    "        # print the five most common tokens\n",
    "        counts = Counter(tokens)\n",
    "        \n",
    "        if num_tokens > 0:\n",
    "            print(counts.most_common(num_tokens))\n",
    "        \n",
    "    return([len(tokens), \n",
    "            len(set(tokens)),\n",
    "            len(\"\".join(tokens)),\n",
    "            len(set(tokens))/len(tokens)])"
   ]
  },
  {
   "cell_type": "code",
   "execution_count": 89,
   "id": "59dcf058",
   "metadata": {},
   "outputs": [
    {
     "name": "stdout",
     "output_type": "stream",
     "text": [
      "There are 13 tokens in the data.\n",
      "There are 9 unique tokens in the data.\n",
      "There are 55 characters in the data.\n",
      "The lexical diversity is 0.692 in the data.\n",
      "[('text', 3), ('here', 2), ('example', 2), ('is', 1), ('some', 1)]\n"
     ]
    }
   ],
   "source": [
    "text = \"\"\"here is some example text with other example text here in this text\"\"\".split()\n",
    "assert(descriptive_stats(text, verbose=True)[0] == 13)\n",
    "assert(descriptive_stats(text, verbose=False)[1] == 9)\n",
    "assert(descriptive_stats(text, verbose=False)[2] == 55)\n",
    "assert(abs(descriptive_stats(text, verbose=False)[3] - 0.69) < 0.02)"
   ]
  },
  {
   "cell_type": "markdown",
   "id": "d2e7e1a2",
   "metadata": {},
   "source": [
    "Q: Why is it beneficial to use assertion statements in your code? \n",
    "\n",
    "A: Assertion statements are beneficial because it allows you to validate assumptions and verify the accuracy of your code by checking if specific conditions or expectations are met. It makes identifying errors much easier at an early stage.  "
   ]
  },
  {
   "cell_type": "markdown",
   "id": "9d3bf93e",
   "metadata": {},
   "source": [
    "## Data Input\n",
    "\n",
    "Now read in each of the corpora. For the lyrics data, it may be convenient to store the entire contents of the file to make it easier to inspect the titles individually, as you'll do in the last part of the assignment. In the solution, I stored the lyrics data in a dictionary with two dimensions of keys: artist and song. The value was the file contents. A data frame would work equally well. \n",
    "\n",
    "For the Twitter data, we only need the description field for this assignment. Feel free all the descriptions read it into a data structure. In the solution, I stored the descriptions as a dictionary of lists, with the key being the artist. \n",
    "\n",
    "\n"
   ]
  },
  {
   "cell_type": "code",
   "execution_count": 32,
   "id": "37d70801",
   "metadata": {},
   "outputs": [],
   "source": [
    "# Read in the lyrics data\n",
    "lyrics_data = defaultdict(dict)\n",
    "\n",
    "for item in os.listdir(data_location + lyrics_folder):\n",
    "    if os.path.isdir(data_location + lyrics_folder + item):\n",
    "        for lyrics_page in os.listdir(data_location + lyrics_folder + item):\n",
    "            artist,song = lyrics_page.split(\"_\")\n",
    "            song = song.replace(\".txt\", \"\")\n",
    "            lyrics_data[item][song] = open(data_location + lyrics_folder + item + \"/\" + lyrics_page).read()"
   ]
  },
  {
   "cell_type": "code",
   "execution_count": 33,
   "id": "debcac5a",
   "metadata": {},
   "outputs": [],
   "source": [
    "# Read in the twitter data\n",
    "twitter_files = os.listdir(data_location + twitter_folder)\n",
    "desc_files = [f for f in twitter_files if \"followers_data\" in f]\n",
    "\n",
    "twitter_data = defaultdict(list)\n",
    "\n",
    "for f in desc_files :\n",
    "    artist = f.split(\"_\")[0]\n",
    "        \n",
    "    with open(data_location + twitter_folder + f,'r', encoding='utf8') as infile :\n",
    "        next(infile)\n",
    "        for idx, line in enumerate(infile.readlines()) :\n",
    "            \n",
    "            line = line.strip().split(\"\\t\")\n",
    "            \n",
    "            if len(line) == 7 :\n",
    "                twitter_data[artist].append(line[6])"
   ]
  },
  {
   "cell_type": "markdown",
   "id": "6a5f3b12",
   "metadata": {},
   "source": [
    "## Data Cleaning\n",
    "\n",
    "Now clean and tokenize your data. Remove punctuation chacters (available in the `punctuation` object in the `string` library), split on whitespace, fold to lowercase, and remove stopwords. Store your cleaned data, which must be accessible as an interable for `descriptive_stats`, in new objects or in new columns in your data frame. \n",
    "\n"
   ]
  },
  {
   "cell_type": "code",
   "execution_count": 34,
   "id": "71c73d86",
   "metadata": {},
   "outputs": [],
   "source": [
    "punctuation = set(punctuation) # speeds up comparison"
   ]
  },
  {
   "cell_type": "code",
   "execution_count": 39,
   "id": "b327033a",
   "metadata": {},
   "outputs": [],
   "source": [
    "# create your clean twitter data here\n",
    "descs_processed = defaultdict(list)\n",
    "\n",
    "for artist in twitter_data:\n",
    "    \n",
    "    descriptions = \" \".join(twitter_data[artist])\n",
    "        \n",
    "    # Remove punctuation\n",
    "    descriptions = \"\".join([ch for ch in descriptions if ch not in punctuation])\n",
    "        \n",
    "    # Case fold and tokenize on whitespace\n",
    "    descriptions = [item.lower().strip() for item in descriptions.split()]\n",
    "        \n",
    "    # Remove stopwords\n",
    "    descriptions = [item for item in descriptions if item not in sw]\n",
    "        \n",
    "    descs_processed[artist].extend(descriptions)"
   ]
  },
  {
   "cell_type": "code",
   "execution_count": 35,
   "id": "e0f22e10",
   "metadata": {},
   "outputs": [],
   "source": [
    "# create your clean lyrics data here\n",
    "lyrics_processed = defaultdict(list)\n",
    "\n",
    "for artist in lyrics_data:\n",
    "    for song in lyrics_data[artist]:\n",
    "        \n",
    "        # Remove punctuation\n",
    "        lyrics = \"\".join([ch for ch in lyrics_data[artist][song] if ch not in string.punctuation])\n",
    "        \n",
    "        # Case fold and tokenize on whitespace\n",
    "        lyrics = [item.lower().strip() for item in lyrics.split()]\n",
    "        \n",
    "        # Remove stopwords\n",
    "        lyrics = [item for item in lyrics if item not in sw]\n",
    "        \n",
    "        lyrics_processed[artist].extend(lyrics)"
   ]
  },
  {
   "cell_type": "markdown",
   "id": "f2dd0179",
   "metadata": {},
   "source": [
    "## Basic Descriptive Statistics\n",
    "\n",
    "Call your `descriptive_stats` function on both your lyrics data and your twitter data and for both artists (four total calls). "
   ]
  },
  {
   "cell_type": "code",
   "execution_count": 90,
   "id": "40d4fb10",
   "metadata": {},
   "outputs": [
    {
     "name": "stdout",
     "output_type": "stream",
     "text": [
      "There are 35916 tokens in the data.\n",
      "There are 3703 unique tokens in the data.\n",
      "There are 172634 characters in the data.\n",
      "The lexical diversity is 0.103 in the data.\n",
      "[('love', 1004), ('im', 513), ('know', 486), ('dont', 440), ('youre', 333), ('time', 319), ('baby', 319), ('see', 308), ('oh', 306), ('one', 282)]\n"
     ]
    },
    {
     "data": {
      "text/plain": [
       "[35916, 3703, 172634, 0.10310168170174852]"
      ]
     },
     "execution_count": 90,
     "metadata": {},
     "output_type": "execute_result"
    }
   ],
   "source": [
    "# calls to descriptive_stats on cher lyrics data\n",
    "descriptive_stats(lyrics_processed['cher'], num_tokens = 10)"
   ]
  },
  {
   "cell_type": "code",
   "execution_count": 93,
   "id": "f0bbedd9",
   "metadata": {},
   "outputs": [
    {
     "name": "stdout",
     "output_type": "stream",
     "text": [
      "There are 15227 tokens in the data.\n",
      "There are 2156 unique tokens in the data.\n",
      "There are 73787 characters in the data.\n",
      "The lexical diversity is 0.142 in the data.\n",
      "[('know', 308), ('dont', 301), ('im', 299), ('love', 275), ('got', 251), ('like', 232), ('baby', 222), ('youre', 169), ('never', 155), ('dance', 150)]\n"
     ]
    },
    {
     "data": {
      "text/plain": [
       "[15227, 2156, 73787, 0.14159059565245943]"
      ]
     },
     "execution_count": 93,
     "metadata": {},
     "output_type": "execute_result"
    }
   ],
   "source": [
    "# calls to descriptive_stats on robyn lyrics data\n",
    "descriptive_stats(lyrics_processed['robyn'], num_tokens = 10)"
   ]
  },
  {
   "cell_type": "code",
   "execution_count": 94,
   "id": "24430258",
   "metadata": {},
   "outputs": [
    {
     "name": "stdout",
     "output_type": "stream",
     "text": [
      "There are 15670504 tokens in the data.\n",
      "There are 1517718 unique tokens in the data.\n",
      "There are 92951718 characters in the data.\n",
      "The lexical diversity is 0.097 in the data.\n",
      "[('love', 214576), ('im', 139098), ('life', 122980), ('music', 88177), ('de', 72974), ('follow', 62585), ('lover', 60347), ('like', 58592), ('mom', 53737), ('sheher', 47208)]\n"
     ]
    },
    {
     "data": {
      "text/plain": [
       "[15670504, 1517718, 92951718, 0.09685189448916257]"
      ]
     },
     "execution_count": 94,
     "metadata": {},
     "output_type": "execute_result"
    }
   ],
   "source": [
    "# calls to descriptive_stats on cher twitter data\n",
    "descriptive_stats(descs_processed['cher'], num_tokens = 10)"
   ]
  },
  {
   "cell_type": "code",
   "execution_count": 95,
   "id": "ba2f797a",
   "metadata": {},
   "outputs": [
    {
     "name": "stdout",
     "output_type": "stream",
     "text": [
      "There are 1495526 tokens in the data.\n",
      "There are 252736 unique tokens in the data.\n",
      "There are 9127817 characters in the data.\n",
      "The lexical diversity is 0.169 in the data.\n",
      "[('music', 15147), ('love', 11677), ('im', 9051), ('och', 7922), ('life', 7383), ('de', 6383), ('follow', 5600), ('like', 4945), ('en', 4833), ('•', 4829)]\n"
     ]
    },
    {
     "data": {
      "text/plain": [
       "[1495526, 252736, 9127817, 0.16899472158959455]"
      ]
     },
     "execution_count": 95,
     "metadata": {},
     "output_type": "execute_result"
    }
   ],
   "source": [
    "# calls to descriptive_stats on robyn twitter data\n",
    "descriptive_stats(descs_processed['robynkonichiwa'], num_tokens = 10)"
   ]
  },
  {
   "cell_type": "markdown",
   "id": "46294409",
   "metadata": {},
   "source": [
    "Q: How do you think the \"top 5 words\" would be different if we left stopwords in the data? \n",
    "\n",
    "A: If stopwords were left in the data, common words like \"and,\" \"the,\" and \"is\" would likely be on the top word list. It will  reduce the significance of other more meaningful or informative words.\n",
    "\n",
    "---\n",
    "\n",
    "Q: What were your prior beliefs about the lexical diversity between the artists? Does the difference (or lack thereof) in lexical diversity between the artists conform to your prior beliefs? \n",
    "\n",
    "A: I previously believe that the lexical diversity between the artists are higher. However, it turns out that the lexical diversity for both artists is quite low, which doesn't conform to my prior beliefs. "
   ]
  },
  {
   "cell_type": "markdown",
   "id": "4d4e1ac1",
   "metadata": {},
   "source": [
    "\n",
    "## Specialty Statistics\n",
    "\n",
    "The descriptive statistics we have calculated are quite generic. You will now calculate a handful of statistics tailored to these data.\n",
    "\n",
    "1. Ten most common emojis by artist in the twitter descriptions.\n",
    "1. Ten most common hashtags by artist in the twitter descriptions.\n",
    "1. Five most common words in song titles by artist. \n",
    "1. For each artist, a histogram of song lengths (in terms of number of tokens) \n",
    "\n",
    "We can use the `emoji` library to help us identify emojis and you have been given a function to help you.\n"
   ]
  },
  {
   "cell_type": "code",
   "execution_count": 45,
   "id": "753a5a3e",
   "metadata": {},
   "outputs": [],
   "source": [
    "assert(emoji.is_emoji(\"❤️\"))\n",
    "assert(not emoji.is_emoji(\":-)\"))"
   ]
  },
  {
   "cell_type": "markdown",
   "id": "986fc4c0",
   "metadata": {},
   "source": [
    "### Emojis 😁\n",
    "\n",
    "What are the ten most common emojis by artist in the twitter descriptions? \n"
   ]
  },
  {
   "cell_type": "code",
   "execution_count": 46,
   "id": "269cd433",
   "metadata": {},
   "outputs": [],
   "source": [
    "emojis = defaultdict(list)\n",
    "\n",
    "for artist in twitter_data:\n",
    "    for desc in twitter_data[artist]:\n",
    "        emojis[artist].extend([ch for ch in desc if emoji.is_emoji(ch)])"
   ]
  },
  {
   "cell_type": "code",
   "execution_count": 47,
   "id": "7a9fef94",
   "metadata": {},
   "outputs": [
    {
     "name": "stdout",
     "output_type": "stream",
     "text": [
      "cher\n",
      "[('❤', 79223), ('🌈', 47549), ('♥', 33978), ('🏳', 33412), ('✨', 29468), ('💙', 21379), ('🏻', 20930), ('🌊', 20223), ('✌', 16773), ('💜', 16550)]\n",
      "robynkonichiwa\n",
      "[('❤', 4783), ('🌈', 4685), ('🏳', 3528), ('♥', 3103), ('✨', 2223), ('🏻', 1495), ('✌', 1189), ('🏼', 1139), ('♀', 836), ('💙', 809)]\n"
     ]
    }
   ],
   "source": [
    "for artist in emojis:\n",
    "    print(artist)\n",
    "    print(Counter(emojis[artist]).most_common(10))"
   ]
  },
  {
   "cell_type": "markdown",
   "id": "bab9b770",
   "metadata": {},
   "source": [
    "### Hashtags\n",
    "\n",
    "What are the ten most common hashtags by artist in the twitter descriptions? \n"
   ]
  },
  {
   "cell_type": "code",
   "execution_count": 48,
   "id": "07c396f1",
   "metadata": {},
   "outputs": [],
   "source": [
    "hashtags = defaultdict(list)\n",
    "\n",
    "for artist in twitter_data:\n",
    "    for desc in twitter_data[artist]:\n",
    "        hashtags[artist].extend([item.lower() for item in desc.split() if item.startswith('#')])"
   ]
  },
  {
   "cell_type": "code",
   "execution_count": 49,
   "id": "45d8b6b8",
   "metadata": {},
   "outputs": [
    {
     "name": "stdout",
     "output_type": "stream",
     "text": [
      "cher\n",
      "[('#resist', 9558), ('#blm', 8753), ('#blacklivesmatter', 7432), ('#fbr', 2922), ('#theresistance', 2883), ('#resistance', 2405), ('#1', 2226), ('#', 1965), ('#voteblue', 1897), ('#lgbtq', 1457)]\n",
      "robynkonichiwa\n",
      "[('#blacklivesmatter', 563), ('#blm', 324), ('#music', 260), ('#1', 187), ('#', 150), ('#teamfollowback', 117), ('#edm', 104), ('#resist', 76), ('#freebritney', 63), ('#lgbtq', 58)]\n"
     ]
    }
   ],
   "source": [
    "for artist in hashtags:\n",
    "    print(artist)\n",
    "    print(Counter(hashtags[artist]).most_common(10))"
   ]
  },
  {
   "cell_type": "markdown",
   "id": "d10f21d5",
   "metadata": {},
   "source": [
    "### Song Titles\n",
    "\n",
    "What are the five most common words in song titles by artist? The song titles should be on the first line of the lyrics pages, so if you have kept the raw file contents around, you will not need to re-read the data.\n"
   ]
  },
  {
   "cell_type": "code",
   "execution_count": 50,
   "id": "bb69b36b",
   "metadata": {},
   "outputs": [],
   "source": [
    "title_tokens = defaultdict(list)\n",
    "\n",
    "for artist in lyrics_data:\n",
    "    for song, page in lyrics_data[artist].items():\n",
    "        \n",
    "        page = page.split(\"\\n\")\n",
    "        \n",
    "        title_tokens[artist].extend([item.lower() for item in page[0].split()])"
   ]
  },
  {
   "cell_type": "code",
   "execution_count": 51,
   "id": "4b851da8",
   "metadata": {},
   "outputs": [
    {
     "name": "stdout",
     "output_type": "stream",
     "text": [
      "cher\n",
      "[('the', 29), ('to', 28), ('\"the', 24), ('of', 21), ('\"i', 21)]\n",
      "robyn\n",
      "[('you', 7), ('the', 7), ('me', 7), ('my', 6), ('to', 6)]\n"
     ]
    }
   ],
   "source": [
    "for artist in title_tokens:\n",
    "    print(artist)\n",
    "    print(Counter(title_tokens[artist]).most_common(5))"
   ]
  },
  {
   "cell_type": "markdown",
   "id": "5dd4fd71",
   "metadata": {},
   "source": [
    "### Song Lengths\n",
    "\n",
    "For each artist, a histogram of song lengths (in terms of number of tokens). If you put the song lengths in a data frame with an artist column, matplotlib will make the plotting quite easy. An example is given to help you out. \n"
   ]
  },
  {
   "cell_type": "code",
   "execution_count": 52,
   "id": "805a1e52",
   "metadata": {},
   "outputs": [
    {
     "data": {
      "text/plain": [
       "artist\n",
       "Artist 1    AxesSubplot(0.125,0.125;0.775x0.755)\n",
       "Artist 2    AxesSubplot(0.125,0.125;0.775x0.755)\n",
       "Name: length, dtype: object"
      ]
     },
     "execution_count": 52,
     "metadata": {},
     "output_type": "execute_result"
    },
    {
     "data": {
      "image/png": "[encoded data removed]",
      "text/plain": [
       "<Figure size 432x288 with 1 Axes>"
      ]
     },
     "metadata": {
      "needs_background": "light"
     },
     "output_type": "display_data"
    }
   ],
   "source": [
    "num_replicates = 1000\n",
    "\n",
    "df = pd.DataFrame({\n",
    "    \"artist\" : ['Artist 1'] * num_replicates + ['Artist 2']*num_replicates,\n",
    "    \"length\" : np.concatenate((np.random.poisson(125,num_replicates),np.random.poisson(150,num_replicates)))\n",
    "})\n",
    "\n",
    "df.groupby('artist')['length'].plot(kind=\"hist\",density=True,alpha=0.5,legend=True)"
   ]
  },
  {
   "cell_type": "code",
   "execution_count": 55,
   "id": "890280c0",
   "metadata": {},
   "outputs": [
    {
     "data": {
      "text/html": [
       "<div>\n",
       "<style scoped>\n",
       "    .dataframe tbody tr th:only-of-type {\n",
       "        vertical-align: middle;\n",
       "    }\n",
       "\n",
       "    .dataframe tbody tr th {\n",
       "        vertical-align: top;\n",
       "    }\n",
       "\n",
       "    .dataframe thead th {\n",
       "        text-align: right;\n",
       "    }\n",
       "</style>\n",
       "<table border=\"1\" class=\"dataframe\">\n",
       "  <thead>\n",
       "    <tr style=\"text-align: right;\">\n",
       "      <th></th>\n",
       "      <th>artist</th>\n",
       "      <th>song</th>\n",
       "      <th>lyrics</th>\n",
       "    </tr>\n",
       "  </thead>\n",
       "  <tbody>\n",
       "    <tr>\n",
       "      <th>0</th>\n",
       "      <td>cher</td>\n",
       "      <td>88degrees</td>\n",
       "      <td>\"88 Degrees\"\\n\\n\\n\\nStuck in L.A., ain't got n...</td>\n",
       "    </tr>\n",
       "    <tr>\n",
       "      <th>1</th>\n",
       "      <td>cher</td>\n",
       "      <td>adifferentkindoflovesong</td>\n",
       "      <td>\"A Different Kind Of Love Song\"\\n\\n\\n\\nWhat if...</td>\n",
       "    </tr>\n",
       "    <tr>\n",
       "      <th>2</th>\n",
       "      <td>cher</td>\n",
       "      <td>afterall</td>\n",
       "      <td>\"After All\"\\n\\n\\n\\nWell, here we are again\\nI ...</td>\n",
       "    </tr>\n",
       "    <tr>\n",
       "      <th>3</th>\n",
       "      <td>cher</td>\n",
       "      <td>again</td>\n",
       "      <td>\"Again\"\\n\\n\\n\\nAgain evening finds me at your ...</td>\n",
       "    </tr>\n",
       "    <tr>\n",
       "      <th>4</th>\n",
       "      <td>cher</td>\n",
       "      <td>alfie</td>\n",
       "      <td>\"Alfie\"\\n\\n\\n\\nWhat's it all about, Alfie?\\nIs...</td>\n",
       "    </tr>\n",
       "  </tbody>\n",
       "</table>\n",
       "</div>"
      ],
      "text/plain": [
       "  artist                      song  \\\n",
       "0   cher                 88degrees   \n",
       "1   cher  adifferentkindoflovesong   \n",
       "2   cher                  afterall   \n",
       "3   cher                     again   \n",
       "4   cher                     alfie   \n",
       "\n",
       "                                              lyrics  \n",
       "0  \"88 Degrees\"\\n\\n\\n\\nStuck in L.A., ain't got n...  \n",
       "1  \"A Different Kind Of Love Song\"\\n\\n\\n\\nWhat if...  \n",
       "2  \"After All\"\\n\\n\\n\\nWell, here we are again\\nI ...  \n",
       "3  \"Again\"\\n\\n\\n\\nAgain evening finds me at your ...  \n",
       "4  \"Alfie\"\\n\\n\\n\\nWhat's it all about, Alfie?\\nIs...  "
      ]
     },
     "execution_count": 55,
     "metadata": {},
     "output_type": "execute_result"
    }
   ],
   "source": [
    "# Put the songs in dataframes and make a new column that maps the \n",
    "# tokenize function over them then new one for lengths\n",
    "\n",
    "artist_vec = []\n",
    "song_vec = []\n",
    "lyrics_vec = []\n",
    "\n",
    "for artist in lyrics_data:\n",
    "    for song, lyrics in lyrics_data[artist].items():\n",
    "        artist_vec.append(artist)\n",
    "        song_vec.append(song)\n",
    "        lyrics_vec.append(lyrics)\n",
    "        \n",
    "lyrics_df = pd.DataFrame()\n",
    "lyrics_df['artist'] = artist_vec\n",
    "lyrics_df['song'] = song_vec\n",
    "lyrics_df['lyrics'] = lyrics_vec\n",
    "\n",
    "lyrics_df.head()"
   ]
  },
  {
   "cell_type": "markdown",
   "id": "8fde9ebb",
   "metadata": {},
   "source": [
    "Since the lyrics may be stored with carriage returns or tabs, it may be useful to have a function that can collapse whitespace, using regular expressions, and be used for splitting. \n",
    "\n",
    "Q: What does the regular expression `'\\s+'` match on? \n",
    "\n",
    "A: `'\\s'` matches any whitespace character; `'+'` matches the previous token between one and unlimited times; It means that `'\\s+'`will match on consecutive whitespace characters in a string. "
   ]
  },
  {
   "cell_type": "code",
   "execution_count": 56,
   "id": "f0e34516",
   "metadata": {},
   "outputs": [],
   "source": [
    "collapse_whitespace = re.compile(r'\\s+')\n",
    "\n",
    "def tokenize_lyrics(lyric) : \n",
    "    \"\"\"strip and split on whitespace\"\"\"\n",
    "    return([item.lower() for item in collapse_whitespace.split(lyric)])"
   ]
  },
  {
   "cell_type": "code",
   "execution_count": 57,
   "id": "2294c440",
   "metadata": {},
   "outputs": [
    {
     "data": {
      "text/plain": [
       "artist\n",
       "cher     AxesSubplot(0.125,0.125;0.775x0.755)\n",
       "robyn    AxesSubplot(0.125,0.125;0.775x0.755)\n",
       "Name: lyric_len, dtype: object"
      ]
     },
     "execution_count": 57,
     "metadata": {},
     "output_type": "execute_result"
    },
    {
     "data": {
      "image/png": "[encoded data removed]",
      "text/plain": [
       "<Figure size 432x288 with 1 Axes>"
      ]
     },
     "metadata": {
      "needs_background": "light"
     },
     "output_type": "display_data"
    }
   ],
   "source": [
    "# Your lyric length comparison chart here. \n",
    "lyrics_df['lyric_token'] = lyrics_df['lyrics'].apply(tokenize_lyrics)\n",
    "lyrics_df['lyric_len'] = lyrics_df['lyric_token'].apply(len)\n",
    "\n",
    "lyrics_df.groupby('artist')['lyric_len'].plot(kind=\"hist\",density=True,alpha=0.5,legend=True)"
   ]
  }
 ],
 "metadata": {
  "kernelspec": {
   "display_name": "Python 3",
   "language": "python",
   "name": "python3"
  },
  "language_info": {
   "codemirror_mode": {
    "name": "ipython",
    "version": 3
   },
   "file_extension": ".py",
   "mimetype": "text/x-python",
   "name": "python",
   "nbconvert_exporter": "python",
   "pygments_lexer": "ipython3",
   "version": "3.8.8"
  }
 },
 "nbformat": 4,
 "nbformat_minor": 5
}
